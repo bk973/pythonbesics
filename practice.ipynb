{
 "cells": [
  {
   "cell_type": "code",
   "execution_count": null,
   "metadata": {},
   "outputs": [
    {
     "ename": "",
     "evalue": "",
     "output_type": "error",
     "traceback": [
      "\u001b[1;31mRunning cells with 'pythonpractice' requires ipykernel package.\n",
      "\u001b[1;31mRun the following command to install 'ipykernel' into the Python environment. \n",
      "\u001b[1;31mCommand: '/home/kalungi/projects/python/pythonpractice/pythonpractice/bin/python -m pip install ipykernel -U --force-reinstall'"
     ]
    }
   ],
   "source": [
    "sum(4,4)"
   ]
  }
 ],
 "metadata": {
  "kernelspec": {
   "display_name": "pythonpractice",
   "language": "python",
   "name": "python3"
  },
  "language_info": {
   "name": "python",
   "version": "3.10.6 (main, Nov 14 2022, 16:10:14) [GCC 11.3.0]"
  },
  "orig_nbformat": 4,
  "vscode": {
   "interpreter": {
    "hash": "d5d86844315319b6c5dd35ba7e14f34ff0a22dafd0dcbcd99976eb85f86f551d"
   }
  }
 },
 "nbformat": 4,
 "nbformat_minor": 2
}
